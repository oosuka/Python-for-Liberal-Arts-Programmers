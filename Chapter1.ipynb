{
 "cells": [
  {
   "cell_type": "code",
   "execution_count": 2,
   "metadata": {},
   "outputs": [],
   "source": [
    "def dec2bin(target):\n",
    "    # 余り\n",
    "    amari = []\n",
    "    \n",
    "    # 割り算の商が0になるまで\n",
    "    while target != 0:\n",
    "        # 余り\n",
    "        amari.append(target % 2)\n",
    "        # 商\n",
    "        target = target // 2\n",
    "        \n",
    "    # リストを逆順\n",
    "    amari.reverse()\n",
    "\n",
    "    return amari"
   ]
  },
  {
   "cell_type": "code",
   "execution_count": 3,
   "metadata": {},
   "outputs": [
    {
     "data": {
      "text/plain": [
       "[1, 1, 0, 1, 0]"
      ]
     },
     "execution_count": 3,
     "metadata": {},
     "output_type": "execute_result"
    }
   ],
   "source": [
    "dec2bin(26)"
   ]
  },
  {
   "cell_type": "code",
   "execution_count": 4,
   "metadata": {},
   "outputs": [],
   "source": [
    "def dec2hex(target):\n",
    "    amari = [] # 余り\n",
    "    \n",
    "    # 割り算の商が0になるまで\n",
    "    while target != 0:\n",
    "        # 余り\n",
    "        amari.append(target % 16)\n",
    "        # 商\n",
    "        target = target // 16\n",
    "        \n",
    "    # 10-15をA-Fに変換\n",
    "    for i in range(len(amari)):\n",
    "        if amari[i] >= 10:\n",
    "            amari[i] =format(amari[i], 'x').upper()\n",
    "        \n",
    "    # リストを逆順\n",
    "    amari.reverse()\n",
    "\n",
    "    return amari"
   ]
  },
  {
   "cell_type": "code",
   "execution_count": 5,
   "metadata": {},
   "outputs": [
    {
     "data": {
      "text/plain": [
       "[1, 'A']"
      ]
     },
     "execution_count": 5,
     "metadata": {},
     "output_type": "execute_result"
    }
   ],
   "source": [
    "dec2hex(26)"
   ]
  },
  {
   "cell_type": "code",
   "execution_count": 6,
   "metadata": {},
   "outputs": [],
   "source": [
    "def any2dec(target, m):\n",
    "    # 指数の最大値\n",
    "    n = len(target)-1\n",
    "    # 10進法に変換した値\n",
    "    sum = 0\n",
    "    \n",
    "    # 文字数分の繰り返し\n",
    "    for i in range(len(target)):\n",
    "        if target[i].isalpha():\n",
    "            num = int(target[i], 16)\n",
    "        else:\n",
    "            num = int(target[i])\n",
    "\n",
    "        sum += (m ** n) * num\n",
    "        n -= 1\n",
    "    \n",
    "    return sum"
   ]
  },
  {
   "cell_type": "code",
   "execution_count": 7,
   "metadata": {},
   "outputs": [
    {
     "data": {
      "text/plain": [
       "26"
      ]
     },
     "execution_count": 7,
     "metadata": {},
     "output_type": "execute_result"
    }
   ],
   "source": [
    "any2dec('11010', 2)"
   ]
  },
  {
   "cell_type": "code",
   "execution_count": 8,
   "metadata": {},
   "outputs": [
    {
     "data": {
      "text/plain": [
       "26"
      ]
     },
     "execution_count": 8,
     "metadata": {},
     "output_type": "execute_result"
    }
   ],
   "source": [
    "any2dec('1A', 16)"
   ]
  },
  {
   "cell_type": "code",
   "execution_count": 9,
   "metadata": {},
   "outputs": [],
   "source": [
    "def dec2bin_ex(target):\n",
    "    # targetを整数部と小数部に分ける\n",
    "    i = int(target) # 整数部\n",
    "    f = target - i # 小数部\n",
    "    \n",
    "    # 整数部を２進法に変換\n",
    "    a = [] # 余り\n",
    "\n",
    "    # 割り算の商が0になるまで\n",
    "    while i != 0:\n",
    "        a.append(i % 2) # 余り\n",
    "        i = i // 2 # 商\n",
    "\n",
    "    # リストを逆順\n",
    "    a.reverse()\n",
    "    \n",
    "    # 小数部を2進法に変換\n",
    "    \n",
    "    b = [] # 整数部を入れるリスト\n",
    "    n = 0 # 繰り返した回数\n",
    "    \n",
    "    # 2を掛けた後の小数部が0になるまで\n",
    "    while f != 0:\n",
    "        temp = f *2 # 小数部 x 2\n",
    "        b. append(int(temp)) # 整数部\n",
    "        f = temp - int(temp) # 小数部\n",
    "        n += 1\n",
    "        if (n >= 10):\n",
    "            break\n",
    "\n",
    "    # 2進数にへ変換した値\n",
    "    return a, b"
   ]
  },
  {
   "cell_type": "code",
   "execution_count": 10,
   "metadata": {},
   "outputs": [
    {
     "data": {
      "text/plain": [
       "([1, 0, 1, 0], [1, 0, 1])"
      ]
     },
     "execution_count": 10,
     "metadata": {},
     "output_type": "execute_result"
    }
   ],
   "source": [
    "dec2bin_ex(10.625)"
   ]
  }
 ],
 "metadata": {
  "kernelspec": {
   "display_name": "Python 3",
   "language": "python",
   "name": "python3"
  },
  "language_info": {
   "codemirror_mode": {
    "name": "ipython",
    "version": 3
   },
   "file_extension": ".py",
   "mimetype": "text/x-python",
   "name": "python",
   "nbconvert_exporter": "python",
   "pygments_lexer": "ipython3",
   "version": "3.7.6"
  }
 },
 "nbformat": 4,
 "nbformat_minor": 4
}
